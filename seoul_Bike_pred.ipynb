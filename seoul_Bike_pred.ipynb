{
  "cells": [
    {
      "cell_type": "markdown",
      "metadata": {
        "id": "view-in-github",
        "colab_type": "text"
      },
      "source": [
        "<a href=\"https://colab.research.google.com/github/missanjali456/EDA/blob/main/seoul_Bike_pred.ipynb\" target=\"_parent\"><img src=\"https://colab.research.google.com/assets/colab-badge.svg\" alt=\"Open In Colab\"/></a>"
      ]
    },
    {
      "cell_type": "code",
      "execution_count": null,
      "metadata": {
        "id": "zudovwNg0DP6"
      },
      "outputs": [],
      "source": [
        "import pandas as pd\n",
        "import numpy as np\n",
        "import matplotlib.pyplot as plt\n",
        "import seaborn as sns\n",
        "from sklearn.preprocessing import MinMaxScaler\n",
        "from sklearn.model_selection import train_test_split\n",
        "from sklearn.linear_model import LinearRegression\n",
        "from sklearn.metrics import r2_score\n",
        "from sklearn.metrics import mean_squared_error\n"
      ]
    },
    {
      "cell_type": "code",
      "execution_count": null,
      "metadata": {
        "id": "kPrQaU771sLQ"
      },
      "outputs": [],
      "source": [
        "from google.colab import drive\n",
        "drive.mount('/content/drive')"
      ]
    },
    {
      "cell_type": "code",
      "execution_count": null,
      "metadata": {
        "id": "ibZCtAgX1qWb"
      },
      "outputs": [],
      "source": [
        "df = pd.read_csv('/content/drive/MyDrive/Colab Notebooks/All Datsets/SeoulBikeData.csv',encoding='cp1252')\n",
        "df"
      ]
    },
    {
      "cell_type": "code",
      "execution_count": null,
      "metadata": {
        "id": "svWkyKkL2JuK"
      },
      "outputs": [],
      "source": [
        "df.shape"
      ]
    },
    {
      "cell_type": "code",
      "execution_count": null,
      "metadata": {
        "id": "l-WV1mAj5Lp3"
      },
      "outputs": [],
      "source": [
        "df.columns"
      ]
    },
    {
      "cell_type": "code",
      "execution_count": null,
      "metadata": {
        "id": "ILNSRi557AFU"
      },
      "outputs": [],
      "source": [
        "df.info()"
      ]
    },
    {
      "cell_type": "code",
      "execution_count": null,
      "metadata": {
        "id": "-RPs8X2v5Ntf"
      },
      "outputs": [],
      "source": [
        "df.isnull().sum()"
      ]
    },
    {
      "cell_type": "code",
      "execution_count": null,
      "metadata": {
        "id": "GoaliUdy5TxD"
      },
      "outputs": [],
      "source": [
        "# duplicate\n",
        "len(df[df.duplicated()])"
      ]
    },
    {
      "cell_type": "code",
      "execution_count": null,
      "metadata": {
        "id": "tnuUM_vr5bny"
      },
      "outputs": [],
      "source": [
        "df.nunique()"
      ]
    },
    {
      "cell_type": "code",
      "execution_count": null,
      "metadata": {
        "id": "3zNxeLJh5rQ4"
      },
      "outputs": [],
      "source": [
        "df.dtypes"
      ]
    },
    {
      "cell_type": "markdown",
      "metadata": {
        "id": "TWM8vylEb1Ae"
      },
      "source": [
        "# **Exploratory Data Analysis**"
      ]
    },
    {
      "cell_type": "code",
      "execution_count": null,
      "metadata": {
        "id": "ZdB0S0rq5vWZ"
      },
      "outputs": [],
      "source": [
        "import datetime as dt\n",
        "df['Date'] = df['Date'].astype('datetime64[ns]')"
      ]
    },
    {
      "cell_type": "code",
      "execution_count": null,
      "metadata": {
        "id": "xbry13aV_bJP"
      },
      "outputs": [],
      "source": [
        "numeric_features = df.describe().columns\n",
        "numeric_features"
      ]
    },
    {
      "cell_type": "code",
      "execution_count": null,
      "metadata": {
        "id": "PLMRJH5cxxrz"
      },
      "outputs": [],
      "source": [
        "df.head()"
      ]
    },
    {
      "cell_type": "code",
      "execution_count": null,
      "metadata": {
        "id": "r1m5_xmS6kiQ"
      },
      "outputs": [],
      "source": [
        "# Dependent variable 'Price'\n",
        "plt.figure(figsize=(7,7))\n",
        "sns.distplot(df['Rented Bike Count'],color=\"y\")"
      ]
    },
    {
      "cell_type": "code",
      "execution_count": null,
      "metadata": {
        "id": "G7-Hsoig7kOp"
      },
      "outputs": [],
      "source": [
        "# Dependent variable 'rented bike count'\n",
        "\n",
        "#plt.figure(figsize=(7,7))\n",
        "#sns.distplot(np.log10(df['Rented Bike Count']),color=\"y\")\n",
        "\n",
        "plt.hist(np.sqrt(df['Rented Bike Count']));\n",
        "plt.title(\"Log Transformation\");\n",
        "plt.show()\n"
      ]
    },
    {
      "cell_type": "markdown",
      "metadata": {
        "id": "p8mstMzRbGR7"
      },
      "source": [
        "# ---> univariate data analysis\n",
        "---> IT involves studying pattern of all variables"
      ]
    },
    {
      "cell_type": "code",
      "execution_count": null,
      "metadata": {
        "id": "udlKOCoZ_qgw"
      },
      "outputs": [],
      "source": [
        "numeric_features = df.describe().columns\n",
        "numeric_features"
      ]
    },
    {
      "cell_type": "code",
      "execution_count": null,
      "metadata": {
        "id": "peiUE337cDB4"
      },
      "outputs": [],
      "source": [
        "cat_features = df.describe(include=['object','category']).columns"
      ]
    },
    {
      "cell_type": "markdown",
      "metadata": {
        "id": "o_W2eWa17QI0"
      },
      "source": [
        "### Lets see the Distribution Of our numeric features"
      ]
    },
    {
      "cell_type": "code",
      "execution_count": null,
      "metadata": {
        "id": "WhgErhG_dELO"
      },
      "outputs": [],
      "source": [
        "plt.figure(figsize=(12, 12))\n",
        "for i, col in enumerate(df.select_dtypes(include=['float64','int64']).columns):\n",
        "    plt.rcParams['axes.facecolor'] = 'black'\n",
        "    ax = plt.subplot(5,5, i+1)\n",
        "    sns.histplot(data=df, x=col, ax=ax,color='red',kde=True)\n",
        "plt.suptitle('Data distribution of continuous variables')\n",
        "plt.tight_layout()"
      ]
    },
    {
      "cell_type": "markdown",
      "metadata": {
        "id": "6iTY5GUJdeyT"
      },
      "source": [
        "---> Here we can see that that Rented bike cout and wind speed feature is highly positively skwed\n",
        "\n",
        "---> visibility and dew point temperature is negatively skwed\n",
        "\n",
        "---> Temperature and Humidity are moderately skwed\n",
        "\n",
        "Skewness\n",
        "\n",
        "Fairly Symmetrical = -0.5 to 0.5\n",
        "\n",
        "Moderate Skewed = -0.5 to -1.0 and 0.5 to 1.0\n",
        "\n",
        "Highly Skewed = < -1.0 and > 1.0"
      ]
    },
    {
      "cell_type": "code",
      "execution_count": null,
      "metadata": {
        "id": "7XA3CZmzhu6A"
      },
      "outputs": [],
      "source": [
        "df.agg(['skew', 'kurtosis']).transpose()"
      ]
    },
    {
      "cell_type": "markdown",
      "metadata": {
        "id": "rt6STvvFdnEV"
      },
      "source": [
        "### Now lets see our distribution after applying transformation"
      ]
    },
    {
      "cell_type": "code",
      "execution_count": null,
      "metadata": {
        "id": "PceyeAuAdeGJ"
      },
      "outputs": [],
      "source": [
        "#apply tranformation to numeric type features only\n",
        "from sklearn.preprocessing import PowerTransformer\n",
        "sc_X=PowerTransformer(method = 'yeo-johnson')\n",
        "df[numeric_features]=sc_X.fit_transform(df[numeric_features])"
      ]
    },
    {
      "cell_type": "code",
      "execution_count": null,
      "metadata": {
        "id": "2TD6PvbId4gk"
      },
      "outputs": [],
      "source": [
        "plt.figure(figsize=(12, 12))\n",
        "for i, col in enumerate(df.select_dtypes(include=['float64','int64']).columns):\n",
        "    plt.rcParams['axes.facecolor'] = 'black'\n",
        "    ax = plt.subplot(5,5, i+1)\n",
        "    sns.histplot(data=df, x=col, ax=ax,color='red',kde=True)\n",
        "plt.suptitle('Data distribution of continuous variables')\n",
        "plt.tight_layout()"
      ]
    },
    {
      "cell_type": "markdown",
      "metadata": {
        "id": "F8FtV3xeeP2G"
      },
      "source": [
        "### Lets Boxplot our features to see presence of outliers"
      ]
    },
    {
      "cell_type": "code",
      "execution_count": null,
      "metadata": {
        "id": "DRDH3DipeUo2"
      },
      "outputs": [],
      "source": [
        "plt.figure(figsize=(18, 18))\n",
        "for i, col in enumerate(df.select_dtypes(include=['float64','int64']).columns):\n",
        "    plt.rcParams['axes.facecolor'] = 'black'\n",
        "    ax = plt.subplot(5,4, i+1)\n",
        "    sns.boxplot(data=df, x=col, ax=ax,color='blue')\n",
        "plt.suptitle('Box Plot of continuous variables')\n",
        "plt.tight_layout()"
      ]
    },
    {
      "cell_type": "markdown",
      "metadata": {
        "id": "XqWGAzbDfIEK"
      },
      "source": [
        "--> From this visualisation we can see their are many outliers present in our dataset"
      ]
    },
    {
      "cell_type": "markdown",
      "metadata": {
        "id": "yPsM3UF3fcDY"
      },
      "source": [
        "### Box plot after applying Tranformation"
      ]
    },
    {
      "cell_type": "code",
      "execution_count": null,
      "metadata": {
        "id": "TlccdvRkfA8u"
      },
      "outputs": [],
      "source": [
        "plt.figure(figsize=(18, 18))\n",
        "for i, col in enumerate(df.select_dtypes(include=['float64','int64']).columns):\n",
        "    plt.rcParams['axes.facecolor'] = 'black'\n",
        "    ax = plt.subplot(5,2, i+1)\n",
        "    sns.boxplot(data=df, x=col, ax=ax,color='blue')\n",
        "plt.suptitle('Box Plot of continuous variables')\n",
        "plt.tight_layout()"
      ]
    },
    {
      "cell_type": "markdown",
      "metadata": {
        "id": "PDBb9NGmfzsd"
      },
      "source": [
        "---> Now our Box plots look better after treating the outliers."
      ]
    },
    {
      "cell_type": "markdown",
      "metadata": {
        "id": "9usfCGP0gYPH"
      },
      "source": [
        "# **--> Bivariate Analysis**\n",
        "--> It involves finding relationships, patterns, and correlations between two variables."
      ]
    },
    {
      "cell_type": "markdown",
      "metadata": {
        "id": "ZbqYO4YtiL7N"
      },
      "source": [
        "**1) Rented bike count as per functioning day**"
      ]
    },
    {
      "cell_type": "code",
      "execution_count": null,
      "metadata": {
        "id": "koAfcaZ6iZUg"
      },
      "outputs": [],
      "source": [
        "df.info()"
      ]
    },
    {
      "cell_type": "code",
      "execution_count": null,
      "metadata": {
        "id": "RAXadfHKiLiH"
      },
      "outputs": [],
      "source": [
        "sns.barplot(y='Rented Bike Count',x='Functioning Day',data=df,estimator=np.mean)\n",
        "plt.xlabel('Functioning Day', color='blue',fontsize=16)\n",
        "plt.ylabel('Rented Bike Count',color='blue',fontsize=16)"
      ]
    },
    {
      "cell_type": "code",
      "execution_count": null,
      "metadata": {
        "id": "eMX44WMvf19s"
      },
      "outputs": [],
      "source": [
        "# GROUPING BY HOLIDAY AND CALCULATING THE TOTAL RENTED BIKE COUNT\n",
        "df.groupby('Functioning Day').sum()['Rented Bike Count'].sort_values(ascending = False).reset_index()"
      ]
    },
    {
      "cell_type": "markdown",
      "metadata": {
        "id": "OAi7-vqDi34e"
      },
      "source": [
        " --> As per diagnosis data found that rental bike only given on Functioning Day,So remove Non Functioning Days and then remove Functioning Day Column Also"
      ]
    },
    {
      "cell_type": "code",
      "execution_count": null,
      "metadata": {
        "id": "3zI1pCbJi8Ov"
      },
      "outputs": [],
      "source": [
        "#Removing data of non functional days (non rented days)\n",
        "df = df.drop(df[df['Functioning Day'] == 'No'].index)"
      ]
    },
    {
      "cell_type": "code",
      "execution_count": null,
      "metadata": {
        "id": "XPAfwbZ7jCNR"
      },
      "outputs": [],
      "source": [
        "#Due to not unsefull in Functioning Day Column ,remove Functioning Day Column\n",
        "df =df.drop(['Functioning Day'], axis = 1)"
      ]
    },
    {
      "cell_type": "markdown",
      "metadata": {
        "id": "7w6RG2Vwjlnp"
      },
      "source": [
        "**2) Rented bike count as per seasons**\n"
      ]
    },
    {
      "cell_type": "code",
      "execution_count": null,
      "metadata": {
        "id": "Qgtttb_GjbV1"
      },
      "outputs": [],
      "source": [
        "sns.barplot(y='Rented Bike Count',x='Seasons',data=df,estimator=np.mean)\n",
        "plt.xlabel('Seasons', color='blue',fontsize=16)\n",
        "plt.ylabel('Rented Bike Count',color='blue',fontsize=16)"
      ]
    },
    {
      "cell_type": "code",
      "execution_count": null,
      "metadata": {
        "id": "-KmuTG6qj2L2"
      },
      "outputs": [],
      "source": [
        "# GROUPING BY SEASONS AND CALCULATING THE TOTAL RENTED BIKE COUNT\n",
        "df.groupby('Seasons').sum()['Rented Bike Count'].sort_values(ascending = False).reset_index()"
      ]
    },
    {
      "cell_type": "markdown",
      "metadata": {
        "id": "r-yZLYERkDX-"
      },
      "source": [
        "**2) Rented bike count as per Holidays**"
      ]
    },
    {
      "cell_type": "code",
      "execution_count": null,
      "metadata": {
        "id": "XN3GZ1S2j5FU"
      },
      "outputs": [],
      "source": [
        "sns.barplot(y='Rented Bike Count',x='Holiday',data=df,estimator=np.mean)\n",
        "plt.xlabel('Holidays', color='blue',fontsize=16)\n",
        "plt.ylabel('Rented Bike Count',color='blue',fontsize=16)"
      ]
    },
    {
      "cell_type": "code",
      "execution_count": null,
      "metadata": {
        "id": "Ne_j0XyTkO6U"
      },
      "outputs": [],
      "source": [
        "# GROUPING BY HOLIDAY AND CALCULATING THE TOTAL RENTED BIKE COUNT\n",
        "df.groupby('Holiday').sum()['Rented Bike Count'].sort_values(ascending = False).reset_index()"
      ]
    },
    {
      "cell_type": "markdown",
      "metadata": {
        "id": "avl_Sd977Sxj"
      },
      "source": [
        "### **Label Encoding**"
      ]
    },
    {
      "cell_type": "code",
      "execution_count": null,
      "metadata": {
        "id": "F_J3wI_G7ULa"
      },
      "outputs": [],
      "source": [
        "df['Day'] = df['Date'].dt.day_name()\n",
        "df['Day'] = df['Date'].dt.day_name()\n",
        "\n",
        "df['month']=df['Date'].dt.month\n",
        "df['month']=df['Date'].dt.month\n",
        "\n",
        "df['year']=df['Date'].dt.year\n",
        "df['year']=df['Date'].dt.year"
      ]
    },
    {
      "cell_type": "code",
      "execution_count": null,
      "metadata": {
        "id": "rvUFjVo_7Uhh"
      },
      "outputs": [],
      "source": [
        "df.drop(['Date'],axis=1,inplace=True)"
      ]
    },
    {
      "cell_type": "code",
      "execution_count": null,
      "metadata": {
        "id": "jwW9hStk7jY7"
      },
      "outputs": [],
      "source": [
        "from sklearn.preprocessing import LabelEncoder\n",
        "list1 = df.select_dtypes(include =['object'])\n",
        "list1\n",
        "end=LabelEncoder()\n",
        "for i in list1:\n",
        "  df[i]=end.fit_transform(df[i])\n",
        "df.head()"
      ]
    },
    {
      "cell_type": "markdown",
      "metadata": {
        "id": "gMcVg1_87Vaw"
      },
      "source": [
        "### **Let's Check the correlation between out IV and DV**"
      ]
    },
    {
      "cell_type": "code",
      "execution_count": null,
      "metadata": {
        "id": "MJAFINQc5bMU"
      },
      "outputs": [],
      "source": [
        " ## Correlation\n",
        "plt.figure(figsize=(15,8))\n",
        "correlation = df.corr()\n",
        "sns.heatmap(abs(correlation), annot=True, cmap='coolwarm')"
      ]
    },
    {
      "cell_type": "code",
      "execution_count": null,
      "metadata": {
        "id": "I_enRkn2ow97"
      },
      "outputs": [],
      "source": [
        "#let just drop dew point temperarure \n",
        "df = df.drop(['Dew point temperature(°C)'],axis=1)"
      ]
    },
    {
      "cell_type": "code",
      "execution_count": null,
      "metadata": {
        "id": "LDY54U83qEy_"
      },
      "outputs": [],
      "source": [
        "df.head()"
      ]
    },
    {
      "cell_type": "code",
      "execution_count": null,
      "metadata": {
        "id": "Ht1p_gdyqQlo"
      },
      "outputs": [],
      "source": [
        "#Multicollinearity\n",
        "from statsmodels.stats.outliers_influence import variance_inflation_factor\n",
        "def calc_vif(X):\n",
        "\n",
        "    # Calculating VIF\n",
        "    vif = pd.DataFrame()\n",
        "    vif[\"variables\"] = X.columns\n",
        "    vif[\"VIF\"] = [variance_inflation_factor(X.values, i) for i in range(X.shape[1])]\n",
        "\n",
        "    return(vif)\n"
      ]
    },
    {
      "cell_type": "code",
      "execution_count": null,
      "metadata": {
        "id": "-kk8Qhvci6uo"
      },
      "outputs": [],
      "source": [
        "#Compute VIF data for each independent variable\n",
        "from statsmodels.stats.outliers_influence import variance_inflation_factor\n",
        "vif = pd.DataFrame()\n",
        "vif[\"features\"] = df.columns\n",
        "vif[\"vif_Factor\"] = [variance_inflation_factor(df.values, i) for i in range(df.shape[1])]\n",
        "vif"
      ]
    },
    {
      "cell_type": "markdown",
      "metadata": {
        "id": "HXiDdNV8BECO"
      },
      "source": [
        "**--> lets just drop the unwanted columns**"
      ]
    },
    {
      "cell_type": "markdown",
      "metadata": {
        "id": "LCFS3OoHXhaU"
      },
      "source": [
        "### **Applying linear regression**"
      ]
    },
    {
      "cell_type": "code",
      "execution_count": null,
      "metadata": {
        "id": "ZaJ-XRPEuyj_"
      },
      "outputs": [],
      "source": [
        "#lets just split our data for training and testing set\n",
        "x = df.drop(['Rented Bike Count'],axis=1)"
      ]
    },
    {
      "cell_type": "code",
      "execution_count": null,
      "metadata": {
        "id": "CV0APKylvIc1"
      },
      "outputs": [],
      "source": [
        "y = df['Rented Bike Count']"
      ]
    },
    {
      "cell_type": "code",
      "execution_count": null,
      "metadata": {
        "id": "dmZGq67auxTa"
      },
      "outputs": [],
      "source": [
        "from sklearn.model_selection import train_test_split \n",
        "x_train, x_test, y_train, y_test = train_test_split( x,y , test_size = 0.3, random_state =200) \n",
        "print(x_train.shape)\n",
        "print(x_test.shape)"
      ]
    },
    {
      "cell_type": "code",
      "execution_count": null,
      "metadata": {
        "id": "q8k2AZe2vGzD"
      },
      "outputs": [],
      "source": [
        "from sklearn.linear_model import LinearRegression\n",
        "\n",
        "reg = LinearRegression()\n",
        "reg.fit(x_train, y_train)"
      ]
    },
    {
      "cell_type": "code",
      "execution_count": null,
      "metadata": {
        "id": "pOWrf8AS-47K"
      },
      "outputs": [],
      "source": [
        "from matplotlib import pyplot\n",
        "# get importance\n",
        "importance = reg.coef_\n",
        "# summarize feature importance\n",
        "for i,v in enumerate(importance):\n",
        " print('Feature: %0d, Score: %.5f' % (i,v))\n",
        "# plot feature importance\n",
        "pyplot.bar([x for x in range(len(importance))], importance)\n",
        "pyplot.show()"
      ]
    },
    {
      "cell_type": "code",
      "execution_count": null,
      "metadata": {
        "id": "2ZCdnGv23dNt"
      },
      "outputs": [],
      "source": [
        "reg.score(x_train, y_train)"
      ]
    },
    {
      "cell_type": "code",
      "execution_count": null,
      "metadata": {
        "id": "7uWQ-bdsZDYJ"
      },
      "outputs": [],
      "source": [
        "reg.coef_"
      ]
    },
    {
      "cell_type": "code",
      "execution_count": null,
      "metadata": {
        "id": "-5Xv_fOiZG1a"
      },
      "outputs": [],
      "source": [
        "len(reg.coef_)"
      ]
    },
    {
      "cell_type": "code",
      "execution_count": null,
      "metadata": {
        "id": "p64EzG-JZL1S"
      },
      "outputs": [],
      "source": [
        "reg.intercept_"
      ]
    },
    {
      "cell_type": "code",
      "execution_count": null,
      "metadata": {
        "id": "eFMpto1IZQMu"
      },
      "outputs": [],
      "source": [
        "\n",
        "y_pred = reg.predict(x_test)\n",
        "y_pred"
      ]
    },
    {
      "cell_type": "code",
      "execution_count": null,
      "metadata": {
        "id": "zTN48sjPZUTS"
      },
      "outputs": [],
      "source": [
        "from sklearn.metrics import mean_squared_error\n",
        "\n",
        "MSE  = mean_squared_error(10**(y_test), 10**(y_pred))\n",
        "print(\"MSE :\" , MSE)\n",
        "\n",
        "RMSE = np.sqrt(MSE)\n",
        "print(\"RMSE :\" ,RMSE)"
      ]
    },
    {
      "cell_type": "code",
      "execution_count": null,
      "metadata": {
        "id": "bL5KaF-CZeXT"
      },
      "outputs": [],
      "source": [
        "\n",
        "from sklearn.metrics import r2_score\n",
        "r2 = r2_score(10**(y_test), 10**(y_pred))\n",
        "print(\"R2 :\" ,r2)\n",
        "print(\"Adjusted R2 : \",1-(1-r2_score(10**(y_test), 10**(y_pred)))*((x_test.shape[0]-1)/(x_test.shape[0]-x_test.shape[1]-1)))"
      ]
    },
    {
      "cell_type": "code",
      "execution_count": null,
      "metadata": {
        "id": "7vvTM0mvaoJm"
      },
      "outputs": [],
      "source": [
        "from sklearn.linear_model import Lasso\n",
        "lasso  = Lasso(alpha=0.0001 , max_iter= 3000)\n",
        "\n",
        "lasso.fit(x_train, y_train)"
      ]
    },
    {
      "cell_type": "code",
      "execution_count": null,
      "metadata": {
        "id": "pEzbWhc6hJNE"
      },
      "outputs": [],
      "source": [
        "lasso.score(x_train, y_train)"
      ]
    },
    {
      "cell_type": "code",
      "execution_count": null,
      "metadata": {
        "id": "t7dBYgGTlPRV"
      },
      "outputs": [],
      "source": [
        "lasso.coef_"
      ]
    },
    {
      "cell_type": "code",
      "execution_count": null,
      "metadata": {
        "id": "30BbocdtlUjU"
      },
      "outputs": [],
      "source": [
        "### Cross validation\n",
        "from sklearn.model_selection import GridSearchCV\n",
        "lasso = Lasso()\n",
        "parameters = {'alpha': [1e-15,1e-13,1e-10,1e-8,1e-5,1e-4,1e-3,1e-2,1e-1,1,5,10,20,30,40,45,50,55,60,100,0.0014]}\n",
        "lasso_regressor = GridSearchCV(lasso, parameters, scoring='neg_mean_squared_error', cv=5)\n",
        "lasso_regressor.fit(x_train, y_train)"
      ]
    },
    {
      "cell_type": "code",
      "execution_count": null,
      "metadata": {
        "id": "C2keQZjLlYfq"
      },
      "outputs": [],
      "source": [
        "print(\"The best fit alpha value is found out to be :\" ,lasso_regressor.best_params_)\n",
        "print(\"\\nUsing \",lasso_regressor.best_params_, \" the negative mean squared error is: \", lasso_regressor.best_score_)"
      ]
    },
    {
      "cell_type": "code",
      "execution_count": null,
      "metadata": {
        "id": "JnTyerqUljp8"
      },
      "outputs": [],
      "source": [
        "y_pred_lasso = lasso_regressor.predict(x_test)"
      ]
    },
    {
      "cell_type": "code",
      "execution_count": null,
      "metadata": {
        "id": "QTjx1bwHloGP"
      },
      "outputs": [],
      "source": [
        "\n",
        "plt.figure(figsize=(8,5))\n",
        "plt.plot(10**(y_pred_lasso))\n",
        "plt.plot(10**(np.array(y_test)))\n",
        "plt.legend([\"Predicted\",\"Actual\"])\n",
        "plt.show()"
      ]
    },
    {
      "cell_type": "code",
      "execution_count": null,
      "metadata": {
        "id": "2T4mfo_llqpj"
      },
      "outputs": [],
      "source": [
        "MSE  = mean_squared_error(10**(y_test), 10**(y_pred_lasso))\n",
        "print(\"MSE :\" , MSE)\n",
        "\n",
        "RMSE = np.sqrt(MSE)\n",
        "print(\"RMSE :\" ,RMSE)\n",
        "\n",
        "r2 = r2_score(10**(y_test), 10**(y_pred_lasso))\n",
        "print(\"R2 :\" ,r2)\n",
        "print(\"Adjusted R2 : \",1-(1-r2_score(10**(y_test), 10**(y_pred_lasso)))*((x_test.shape[0]-1)/(x_test.shape[0]-x_test.shape[1]-1)))"
      ]
    },
    {
      "cell_type": "code",
      "execution_count": null,
      "metadata": {
        "id": "N6bRDrAzmgec"
      },
      "outputs": [],
      "source": [
        "from sklearn.linear_model import Ridge\n",
        "ridge = Ridge()\n",
        "parameters = {'alpha': [1e-15,1e-10,1e-8,1e-5,1e-4,1e-3,1e-2,1,5,10,20,30,40,45,50,55,60,100]}\n",
        "ridge_regressor = GridSearchCV(ridge, parameters, scoring='neg_mean_squared_error', cv=3)\n",
        "ridge_regressor.fit(x_train,y_train)"
      ]
    },
    {
      "cell_type": "code",
      "execution_count": null,
      "metadata": {
        "id": "fm3bOuNXmjMw"
      },
      "outputs": [],
      "source": [
        "print(\"The best fit alpha value is found out to be :\" ,ridge_regressor.best_params_)\n",
        "print(\"\\nUsing \",ridge_regressor.best_params_, \" the negative mean squared error is: \", ridge_regressor.best_score_)"
      ]
    },
    {
      "cell_type": "code",
      "execution_count": null,
      "metadata": {
        "id": "GMkP6o7zmoAE"
      },
      "outputs": [],
      "source": [
        "y_pred_ridge = ridge_regressor.predict(x_test)"
      ]
    },
    {
      "cell_type": "code",
      "execution_count": null,
      "metadata": {
        "id": "PdnUk8p9msvz"
      },
      "outputs": [],
      "source": [
        "MSE  = mean_squared_error(10**(y_test), 10**(y_pred_ridge))\n",
        "print(\"MSE :\" , MSE)\n",
        "\n",
        "RMSE = np.sqrt(MSE)\n",
        "print(\"RMSE :\" ,RMSE)\n",
        "\n",
        "r2 = r2_score(10**(y_test), 10**(y_pred_ridge))\n",
        "print(\"R2 :\" ,r2)\n",
        "print(\"Adjusted R2 : \",1-(1-r2_score(10**(y_test), 10**(y_pred_ridge)))*((x_test.shape[0]-1)/(x_test.shape[0]-x_test.shape[1]-1)))"
      ]
    },
    {
      "cell_type": "code",
      "execution_count": null,
      "metadata": {
        "id": "o4j4QRoGm3h0"
      },
      "outputs": [],
      "source": [
        "from sklearn.linear_model import ElasticNet\n",
        "#a * L1 + b * L2\n",
        "#alpha = a + b and l1_ratio = a / (a + b)\n",
        "elasticnet = ElasticNet(alpha=0.1, l1_ratio=0.5)"
      ]
    },
    {
      "cell_type": "code",
      "execution_count": null,
      "metadata": {
        "id": "qwDIZj__m-42"
      },
      "outputs": [],
      "source": [
        "elasticnet.fit(x_train,y_train)"
      ]
    },
    {
      "cell_type": "code",
      "execution_count": null,
      "metadata": {
        "id": "R9p8KcuQm-zI"
      },
      "outputs": [],
      "source": [
        "elasticnet.score(x_train, y_train)"
      ]
    },
    {
      "cell_type": "code",
      "execution_count": null,
      "metadata": {
        "id": "RdBO5MWenDtL"
      },
      "outputs": [],
      "source": [
        "y_pred_en = elasticnet.predict(x_test)"
      ]
    },
    {
      "cell_type": "code",
      "execution_count": null,
      "metadata": {
        "id": "oALnjjn-nGpV"
      },
      "outputs": [],
      "source": [
        "MSE  = mean_squared_error(10**(y_test), 10**(y_pred_en))\n",
        "print(\"MSE :\" , MSE)\n",
        "\n",
        "RMSE = np.sqrt(MSE)\n",
        "print(\"RMSE :\" ,RMSE)\n",
        "\n",
        "r2 = r2_score(10**(y_test), 10**(y_pred_en))\n",
        "print(\"R2 :\" ,r2)\n",
        "print(\"Adjusted R2 : \",1-(1-r2_score(10**(y_test), 10**(y_pred_en)))*((x_test.shape[0]-1)/(x_test.shape[0]-x_test.shape[1]-1)))"
      ]
    },
    {
      "cell_type": "code",
      "execution_count": null,
      "metadata": {
        "id": "D5drm9HlnOOq"
      },
      "outputs": [],
      "source": [
        "elastic = ElasticNet()\n",
        "parameters = {'alpha': [1e-15,1e-13,1e-10,1e-8,1e-5,1e-4,1e-3,1e-2,1e-1,1,5,10,20,30,40,45,50,55,60,100],'l1_ratio':[0.3,0.4,0.5,0.6,0.7,0.8]}\n",
        "elastic_regressor = GridSearchCV(elastic, parameters, scoring='neg_mean_squared_error',cv=5)\n",
        "elastic_regressor.fit(x_train, y_train)"
      ]
    },
    {
      "cell_type": "code",
      "execution_count": null,
      "metadata": {
        "id": "3lsXunWYnUGO"
      },
      "outputs": [],
      "source": [
        "print(\"The best fit alpha value is found out to be :\" ,elastic_regressor.best_params_)\n",
        "print(\"\\nUsing \",elastic_regressor.best_params_, \" the negative mean squared error is: \", elastic_regressor.best_score_)"
      ]
    },
    {
      "cell_type": "code",
      "execution_count": null,
      "metadata": {
        "id": "bSzXGuSGneep"
      },
      "outputs": [],
      "source": [
        "y_pred_elastic = elastic_regressor.predict(x_test)"
      ]
    },
    {
      "cell_type": "code",
      "execution_count": null,
      "metadata": {
        "id": "NCjV_E2-nhYa"
      },
      "outputs": [],
      "source": [
        "MSE  = mean_squared_error(10**(y_test), 10**(y_pred_elastic))\n",
        "print(\"MSE :\" , MSE)\n",
        "\n",
        "RMSE = np.sqrt(MSE)\n",
        "print(\"RMSE :\" ,RMSE)\n",
        "\n",
        "r2 = r2_score(10**(y_test), 10**(y_pred_elastic))\n",
        "print(\"R2 :\" ,r2)\n",
        "print(\"Adjusted R2 : \",1-(1-r2_score(10**(y_test), 10**(y_pred_elastic)))*((x_test.shape[0]-1)/(x_test.shape[0]-x_test.shape[1]-1)))"
      ]
    },
    {
      "cell_type": "code",
      "execution_count": null,
      "metadata": {
        "id": "K5WNXeF0nrOe"
      },
      "outputs": [],
      "source": [
        "plt.figure(figsize=(8,5))\n",
        "plt.plot(10**(y_pred_elastic))\n",
        "plt.plot(10**(np.array(y_test)))\n",
        "plt.legend([\"Predicted\",\"Actual\"])\n",
        "plt.show()"
      ]
    },
    {
      "cell_type": "code",
      "execution_count": null,
      "metadata": {
        "id": "UaJ3l2c3nvey"
      },
      "outputs": [],
      "source": []
    }
  ],
  "metadata": {
    "colab": {
      "provenance": [],
      "authorship_tag": "ABX9TyOu3I4h9ARnyJ69y0IoWxL8",
      "include_colab_link": true
    },
    "kernelspec": {
      "display_name": "Python 3",
      "name": "python3"
    },
    "language_info": {
      "name": "python"
    }
  },
  "nbformat": 4,
  "nbformat_minor": 0
}